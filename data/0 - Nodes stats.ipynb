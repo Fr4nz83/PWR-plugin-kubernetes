{
 "cells": [
  {
   "cell_type": "code",
   "execution_count": null,
   "id": "ad80dd08-b829-4bab-9e13-26ec25a11e30",
   "metadata": {},
   "outputs": [],
   "source": [
    "import pandas as pd"
   ]
  },
  {
   "cell_type": "code",
   "execution_count": null,
   "id": "ebe5b0cd-16e1-406b-b3f5-1df1a3c9818c",
   "metadata": {},
   "outputs": [],
   "source": [
    "nodes = pd.read_csv('./csv/openb_node_list_all_node.csv')\n",
    "display(nodes)"
   ]
  },
  {
   "cell_type": "code",
   "execution_count": null,
   "id": "559dfd41-2f42-41b5-be0b-b9c546aece5c",
   "metadata": {},
   "outputs": [],
   "source": [
    "nodes['model'].value_counts(dropna = False)"
   ]
  },
  {
   "cell_type": "code",
   "execution_count": null,
   "id": "5b0b59d5-f8f9-4619-a9cb-f02d8cd5567f",
   "metadata": {},
   "outputs": [],
   "source": [
    "aggregs = nodes.groupby('model').agg({'gpu' : ['sum', 'mean'], 'cpu_milli' : 'mean', 'memory_mib' : 'mean'})\n",
    "aggregs"
   ]
  }
 ],
 "metadata": {
  "kernelspec": {
   "display_name": "Python 3 (ipykernel)",
   "language": "python",
   "name": "python3"
  },
  "language_info": {
   "codemirror_mode": {
    "name": "ipython",
    "version": 3
   },
   "file_extension": ".py",
   "mimetype": "text/x-python",
   "name": "python",
   "nbconvert_exporter": "python",
   "pygments_lexer": "ipython3",
   "version": "3.11.9"
  }
 },
 "nbformat": 4,
 "nbformat_minor": 5
}
