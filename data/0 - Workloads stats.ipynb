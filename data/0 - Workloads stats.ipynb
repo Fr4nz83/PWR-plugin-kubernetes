{
 "cells": [
  {
   "cell_type": "code",
   "execution_count": null,
   "id": "ad80dd08-b829-4bab-9e13-26ec25a11e30",
   "metadata": {},
   "outputs": [],
   "source": [
    "import pandas as pd\n",
    "import numpy as np"
   ]
  },
  {
   "cell_type": "code",
   "execution_count": null,
   "id": "ebe5b0cd-16e1-406b-b3f5-1df1a3c9818c",
   "metadata": {},
   "outputs": [],
   "source": [
    "pods = pd.read_csv('./csv/openb_pod_list_gpushare100.csv')\n",
    "display(pods)"
   ]
  },
  {
   "cell_type": "code",
   "execution_count": null,
   "id": "796edd91-cd0a-462d-a5e4-145642ec1118",
   "metadata": {},
   "outputs": [],
   "source": [
    "conditions = [(pods['num_gpu'] == 1) & (pods['gpu_milli'] < 1000),   # Share-GPU\n",
    "              (pods['num_gpu'] == 1) & (pods['gpu_milli'] == 1000),  # 1-GPU\n",
    "              (pods['num_gpu'] == 2) & (pods['gpu_milli'] == 1000),  # 2-GPU\n",
    "              (pods['num_gpu'] == 4) & (pods['gpu_milli'] == 1000),  # 4-GPU\n",
    "              (pods['num_gpu'] == 8) & (pods['gpu_milli'] == 1000),  # 8-GPU\n",
    "              (pods['num_gpu'] == 0)]                                # NO-GPU\n",
    "choices = ['Share-GPU', '1-GPU', '2-GPU', '4-GPU', '8-GPU', 'NO-GPU']\n",
    "pods['category'] = np.select(conditions, choices, default='Other')\n",
    "\n",
    "display(pods)"
   ]
  },
  {
   "cell_type": "code",
   "execution_count": null,
   "id": "b3ad1e6c-677f-4af9-9e17-a5d193aee2de",
   "metadata": {},
   "outputs": [],
   "source": [
    "# Determine the task population\n",
    "task_pop = pods['category'].value_counts() / len(pods) * 100\n",
    "display(task_pop)"
   ]
  },
  {
   "cell_type": "code",
   "execution_count": null,
   "id": "e138d326-a0f3-4ede-a6fe-bba0f4e48fb0",
   "metadata": {},
   "outputs": [],
   "source": [
    "# Determine the percentage of GPU requests per class.\n",
    "pods['req_gpu'] = pods['num_gpu'] * pods['gpu_milli']\n",
    "display(pods.groupby('category')['req_gpu'].sum() / pods['req_gpu'].sum() * 100)"
   ]
  },
  {
   "cell_type": "code",
   "execution_count": null,
   "id": "1f0b3ae4-1406-4742-8fef-263ecf4f03fd",
   "metadata": {},
   "outputs": [],
   "source": [
    "# Determine the percentage of GPU requests within the multi-GPU class.\n",
    "multi_pods = pods.loc[~pods['category'].isin(['NO-GPU', 'Share-GPU'])]\n",
    "multi_pods.groupby('category')['req_gpu'].sum() / multi_pods['req_gpu'].sum() * 100"
   ]
  }
 ],
 "metadata": {
  "kernelspec": {
   "display_name": "Python 3 (ipykernel)",
   "language": "python",
   "name": "python3"
  },
  "language_info": {
   "codemirror_mode": {
    "name": "ipython",
    "version": 3
   },
   "file_extension": ".py",
   "mimetype": "text/x-python",
   "name": "python",
   "nbconvert_exporter": "python",
   "pygments_lexer": "ipython3",
   "version": "3.11.9"
  }
 },
 "nbformat": 4,
 "nbformat_minor": 5
}
