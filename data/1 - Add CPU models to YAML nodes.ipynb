{
 "cells": [
  {
   "cell_type": "code",
   "execution_count": null,
   "id": "6be65421-a897-4150-b753-5393bb33e9e8",
   "metadata": {},
   "outputs": [],
   "source": [
    "import yaml\n",
    "from collections import defaultdict"
   ]
  },
  {
   "cell_type": "markdown",
   "id": "09ba10dc-19af-488a-8dd3-c654353b90df",
   "metadata": {},
   "source": [
    "#### Load the original YAML with the specifications of the nodes in the cluster"
   ]
  },
  {
   "cell_type": "code",
   "execution_count": null,
   "id": "08f7236b-89ea-4bb5-ab35-eac410a9fbed",
   "metadata": {},
   "outputs": [],
   "source": [
    "# Load the YAML file\n",
    "with open('./node_yaml/openb_node_list_gpu_node_original.yaml', 'r') as file:\n",
    "    list_nodes = [n for n in yaml.load_all(file, Loader=yaml.Loader)]"
   ]
  },
  {
   "cell_type": "markdown",
   "id": "e0beb584-e94a-4ebc-b443-7a3622dfde88",
   "metadata": {},
   "source": [
    "#### Associate a CPU model to each node, depending on the GPU model they mount (if any). "
   ]
  },
  {
   "cell_type": "code",
   "execution_count": null,
   "id": "403ab0aa-17b5-4508-a7b2-85d4bd4101d2",
   "metadata": {},
   "outputs": [],
   "source": [
    "label_GPU = \"alibabacloud.com/gpu-card-model\"\n",
    "label_CPU = \"alibabacloud.com/cpu-model\"\n",
    "\n",
    "mappa = {None : 'Intel-Xeon-ES-2682-V4',\n",
    "         'T4' : 'Intel-Xeon-8163',\n",
    "         'P100' : 'Intel-Xeon-ES-2682-V4',\n",
    "         'V100M16' : 'Intel-Xeon-6326',\n",
    "         'V100M32' : 'Intel-Xeon-6326',\n",
    "         'A10' : 'Intel-Xeon-8369B',\n",
    "         'G2' : 'Intel-Xeon-8369B',\n",
    "         'A100' : 'Intel-Xeon-8369B',\n",
    "         'G3' : 'Intel-Xeon-8369B'}"
   ]
  },
  {
   "cell_type": "code",
   "execution_count": null,
   "id": "06369de4-88a8-49c0-a160-8258bf95dcd0",
   "metadata": {},
   "outputs": [],
   "source": [
    "cnt_gpu_nodes = defaultdict(int)\n",
    "for n in list_nodes :\n",
    "    GPU_model = n['metadata']['labels'].get(label_GPU)\n",
    "    cnt_gpu_nodes[GPU_model] += 1\n",
    "    n['metadata']['labels'][label_CPU] = mappa[GPU_model]\n",
    "\n",
    "print(f\"Occurrences of GPU models found in the nodes of the cluster: {cnt_gpu_nodes}\\n\")"
   ]
  },
  {
   "cell_type": "markdown",
   "id": "47b27533-6708-4a09-ac35-a78ac1659faa",
   "metadata": {},
   "source": [
    "#### Save the updated nodes in a new YAML"
   ]
  },
  {
   "cell_type": "code",
   "execution_count": null,
   "id": "4bec8eac-5d9a-4f9f-9360-5803282b089b",
   "metadata": {},
   "outputs": [],
   "source": [
    "with open('./node_yaml/openb_node_list_gpu_node.yaml', 'w') as file:\n",
    "    yaml.dump_all(list_nodes, file)"
   ]
  }
 ],
 "metadata": {
  "kernelspec": {
   "display_name": "Python 3 (ipykernel)",
   "language": "python",
   "name": "python3"
  },
  "language_info": {
   "codemirror_mode": {
    "name": "ipython",
    "version": 3
   },
   "file_extension": ".py",
   "mimetype": "text/x-python",
   "name": "python",
   "nbconvert_exporter": "python",
   "pygments_lexer": "ipython3",
   "version": "3.11.9"
  }
 },
 "nbformat": 4,
 "nbformat_minor": 5
}
