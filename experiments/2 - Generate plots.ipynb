{
 "cells": [
  {
   "cell_type": "code",
   "execution_count": null,
   "id": "43262eb9-390c-4c07-a2aa-e09656ed8dff",
   "metadata": {},
   "outputs": [],
   "source": [
    "import pandas as pd\n",
    "import numpy as np\n",
    "import os\n",
    "import sys\n",
    "from pathlib import Path\n",
    "import pickle\n",
    "\n",
    "import matplotlib.pyplot as plt\n",
    "from cycler import cycler\n",
    "import re"
   ]
  },
  {
   "cell_type": "markdown",
   "id": "29b4a77a-dd5d-49cf-ab27-8b67b20586c6",
   "metadata": {},
   "source": [
    "# Auxiliary functions used to generate plots"
   ]
  },
  {
   "cell_type": "code",
   "execution_count": null,
   "id": "d3926ca3-e268-4e37-bfe4-87a77412412b",
   "metadata": {},
   "outputs": [],
   "source": [
    "def plot_comparison_metric(competitors: dict[str, pd.DataFrame],\n",
    "                           reference_competitor : str,\n",
    "                           column : str,\n",
    "                           title_plot : str,\n",
    "                           y_label : str,\n",
    "                           x_limit : tuple[float, float],\n",
    "                           fig_size : tuple[float, float],\n",
    "                           markevery : int,\n",
    "                           save_path : str) :\n",
    "    ''' \n",
    "    This function generates a plot that compares various scoring plugin under some metric as the % of requested\n",
    "    GPU cluster resources increases.\n",
    "    '''\n",
    "\n",
    "    # Set the font size for all plot elements\n",
    "    plt.rcParams.update({'font.size': 14})\n",
    "    \n",
    "    # Plotting\n",
    "    fig, ax1 = plt.subplots(figsize=fig_size)\n",
    "    line_styles = ['-', '--', ':', '-.'] * 2\n",
    "    colors = ['b', 'g', 'r', 'c', 'm', 'y', 'k', 'orange']\n",
    "    markers = ['o', 's', 'D', 'v', '^', '<', '>', 'x']  # markers for linespoints\n",
    "    ax1.set_prop_cycle(cycler('linestyle', line_styles) + cycler('color', colors) + cycler('marker', markers))\n",
    "    \n",
    "    for i, (k, v) in enumerate(competitors.items()) :\n",
    "        if k == reference_competitor: continue\n",
    "        ax1.plot(v.index, v[column], label=k, markevery=(i % markevery, markevery))\n",
    "    ax1.plot(competitors[reference_competitor].index,\n",
    "             competitors[reference_competitor][column],\n",
    "             label=reference_competitor,\n",
    "             markevery=(len(competitors) % markevery, markevery))\n",
    "\n",
    "    ax1.set_xlim(x_limit)\n",
    "    ax1.set_xlabel('Fraction of datacenter GPU capacity requested by arrived tasks')\n",
    "    ax1.set_ylabel(y_label)\n",
    "    ax1.legend(fontsize='small', ncol=2)\n",
    "    plt.title(title_plot)\n",
    "    plt.grid(True)\n",
    "    plt.tight_layout()\n",
    "\n",
    "    plt.savefig(save_path, format='pdf')\n",
    "    \n",
    "    plt.show()"
   ]
  },
  {
   "cell_type": "code",
   "execution_count": null,
   "id": "69b59d1e-642c-48b1-8081-a40793ba6ea2",
   "metadata": {},
   "outputs": [],
   "source": [
    "def plot_energy_savings(competitors_pwr: dict[str, pd.DataFrame], \n",
    "                        reference_competitor : str, \n",
    "                        column_power : str, \n",
    "                        title_plot : str,\n",
    "                        markevery : int,\n",
    "                        fig_size : tuple[float, float],\n",
    "                        save_path : str) :\n",
    "\n",
    "    # Set the font size for all plot elements\n",
    "    plt.rcParams.update({'font.size': 14})\n",
    "    \n",
    "    fig, ax1 = plt.subplots(figsize=fig_size)\n",
    "    line_styles = ['-', '--', ':', '-.'] * 2\n",
    "    colors = ['b', 'g', 'r', 'c', 'm', 'y', 'k', 'orange']\n",
    "    markers = ['o', 's', 'D', 'v', '^', '<', '>', 'x']  # markers for linespoints\n",
    "    ax1.set_prop_cycle(cycler('linestyle', line_styles) + cycler('color', colors) + cycler('marker', markers))\n",
    "    \n",
    "    reference = competitors_pwr[reference_competitor]\n",
    "    for i, (k, v) in enumerate(competitors_pwr.items()) :\n",
    "        if k == reference_competitor: continue\n",
    "        ax1.plot(v.index, (reference[column_power] - v[column_power]) / reference[column_power] * 100, label=k, markevery=(i % markevery, markevery))\n",
    "\n",
    "    ax1.set_xlim((0, 1))\n",
    "    ax1.set_xlabel('Fraction of datacenter GPU capacity requested by arrived tasks')\n",
    "    ax1.set_ylabel(f'Percentage power savings vs {reference_competitor}')\n",
    "    ax1.legend(fontsize='small', ncol=2)\n",
    "    plt.title(title_plot)\n",
    "    plt.grid(True)\n",
    "    plt.tight_layout()\n",
    "\n",
    "    plt.savefig(save_path, format='pdf')\n",
    "    \n",
    "    plt.show()"
   ]
  },
  {
   "cell_type": "code",
   "execution_count": null,
   "id": "1d459cd9-5ef9-45d1-90da-686c7d20d99f",
   "metadata": {},
   "outputs": [],
   "source": [
    "def plot_stacked(dataframe : pd.DataFrame,\n",
    "                 columns : list[str],\n",
    "                 y_label : str,\n",
    "                 save_path : str) :\n",
    "    ''' %\n",
    "    This function generates a plot showing the CPU and GPU energy consumption of a cluster under a certain scheduling policy.\n",
    "    '''\n",
    "\n",
    "    # Set the font size for all plot elements\n",
    "    plt.rcParams.update({'font.size': 14})\n",
    "    \n",
    "    # Plotting\n",
    "    fig, ax1 = plt.subplots(figsize=(8, 4))\n",
    "\n",
    "    ax1.stackplot(dataframe.index, dataframe['power_cluster_CPU'], dataframe['power_cluster_GPU'], labels=['CPU', 'GPU'])\n",
    "    ax1.set_xlabel('Fraction of datacenter GPU capacity requested by arrived tasks')\n",
    "    ax1.set_ylabel(y_label)\n",
    "    ax1.legend(fontsize='small', loc='upper left', ncol=2)\n",
    "    ax1.set_xlim((0,1))\n",
    "    plt.grid(True)\n",
    "\n",
    "    # Creating a secondary y-axis for the ratio\n",
    "    ax2 = ax1.twinx()\n",
    "    ax2.plot(dataframe.index, dataframe['power_cluster_GPU'] / (dataframe['power_cluster_CPU'] + dataframe['power_cluster_GPU']), \n",
    "             color='black', linestyle='-.',\n",
    "             label='Frac. power used by GPUs')\n",
    "    ax2.set_ylabel('Fraction of power used by GPUs')\n",
    "    ax2.legend(fontsize='small', loc='upper right', ncol=2)\n",
    "    plt.tight_layout()\n",
    "\n",
    "    plt.savefig(save_path, format='pdf')\n",
    "    plt.show()"
   ]
  },
  {
   "cell_type": "markdown",
   "id": "2bfebf50-4fe3-4916-9237-6427c57bf4ef",
   "metadata": {},
   "source": [
    "### Read the parsed results"
   ]
  },
  {
   "cell_type": "code",
   "execution_count": null,
   "id": "b275c6aa-59f7-4cd8-a912-289725c02f6e",
   "metadata": {},
   "outputs": [],
   "source": [
    "dict_pwr_final_res = None\n",
    "dict_frag_final_res = None\n",
    "dict_sched_final_res = None\n",
    "dict_efficiency = None\n",
    "\n",
    "with open('dict_pwr_final_res.pkl', 'rb') as f:\n",
    "    dict_pwr_final_res = pickle.load(f)\n",
    "\n",
    "with open('dict_frag_final_res.pkl', 'rb') as f:\n",
    "    dict_frag_final_res = pickle.load(f)\n",
    "\n",
    "with open('dict_sched_final_res.pkl', 'rb') as f:\n",
    "    dict_sched_final_res = pickle.load(f)\n",
    "\n",
    "with open('dict_efficiency.pkl', 'rb') as f:\n",
    "    dict_efficiency = pickle.load(f)"
   ]
  },
  {
   "cell_type": "code",
   "execution_count": null,
   "id": "d8a83092-2b41-42eb-911e-dca9a12a77b2",
   "metadata": {},
   "outputs": [],
   "source": [
    "dict_pwr_final_res['openb_pod_list_default'].keys()"
   ]
  },
  {
   "cell_type": "markdown",
   "id": "41471cfd-ceb7-45fa-8b35-a024bac462cb",
   "metadata": {},
   "source": [
    "# Generation of plots"
   ]
  },
  {
   "cell_type": "code",
   "execution_count": null,
   "id": "06fa93c9-d3a4-4cb8-bf3a-182f4a23b54d",
   "metadata": {},
   "outputs": [],
   "source": [
    "# Generate the directory of the plots, if needed.\n",
    "dir_plots = './energy_aware_plots/'\n",
    "if not os.path.exists(dir_plots): os.makedirs(dir_plots)"
   ]
  },
  {
   "cell_type": "markdown",
   "id": "ea92e94a-5342-42c3-b0e0-be778332083f",
   "metadata": {},
   "source": [
    "### Plot concerning power comsumption of CPUs and GPUs with FGD when considering the Default trace."
   ]
  },
  {
   "cell_type": "code",
   "execution_count": null,
   "id": "27398d2e-98e8-4876-99ec-d7453fbe89aa",
   "metadata": {},
   "outputs": [],
   "source": [
    "# dict_pwr_final_res['openb_pod_list_default']['FGD']\n",
    "plot_stacked(dict_pwr_final_res['openb_pod_list_default']['FGD'],\n",
    "             ['power_cluster_CPU', 'power_cluster_GPU'],\n",
    "             'Power Consumption (W)',\n",
    "             dir_plots + \"pwrcons_default_FGD.pdf\")"
   ]
  },
  {
   "cell_type": "markdown",
   "id": "16b58e76-6883-4a41-ac1c-0b0ea017bf99",
   "metadata": {},
   "source": [
    "### Plots concerning power savings of linear combinations of PWR and FGS vs plain FGD"
   ]
  },
  {
   "cell_type": "code",
   "execution_count": null,
   "id": "5350e02b-d4f4-4cce-b3d2-96f88f204d64",
   "metadata": {},
   "outputs": [],
   "source": [
    "reference_competitor = 'FGD'\n",
    "level = 'openb_pod_list_default'\n",
    "\n",
    "tmp_pwr_res = {k : v for k, v in dict_pwr_final_res[level].items() if ('PWR' in k) or ('FGD' in k)}\n",
    "\n",
    "# Plot the energy savings achieved with some competitor w.r.t. the reference competitor.\n",
    "# X-axis represents the arrived workloads in % of GPU resources available in the cluster. \n",
    "plot_energy_savings(tmp_pwr_res, reference_competitor, \n",
    "                    \"power_cluster\", \n",
    "                    None,\n",
    "                    12,\n",
    "                    (8, 5),\n",
    "                    dir_plots + \"pwrsaving_special_\" + level + '.pdf')\n",
    "\n",
    "\n",
    "\n",
    "tmp_eff = {k : v for k, v in dict_efficiency[level].items() if ('PWR' in k) or ('FGD' in k)}\n",
    "# Plot the GPU resource allocation ratio achieved by the various competitors across the various batches of experiments.\n",
    "plot_comparison_metric(tmp_eff,\n",
    "                       reference_competitor,\n",
    "                       'usage_efficiency',\n",
    "                       None,\n",
    "                       'GPU Resource Allocation Ratio',\n",
    "                       (0.8,1),\n",
    "                       (8, 5),\n",
    "                       3,\n",
    "                       dir_plots + \"gpuocc_special_\" + level + '.pdf')"
   ]
  },
  {
   "cell_type": "code",
   "execution_count": null,
   "id": "4bb8839f-4558-4337-a6ad-6e8e987ce5f3",
   "metadata": {},
   "outputs": [],
   "source": [
    "reference_competitor = 'FGD'\n",
    "set_ignored_score_plugins = {'PWR', 'PWR_500_FGD_500', 'PWR_300_FGD_700', 'PWR_25_FGD_975'} # Set of plugins ignored\n",
    "                                                                                            # for this set of plots.\n",
    "for level in dict_pwr_final_res.keys() :\n",
    "\n",
    "    print(f\"Generating plots for {level}...\")\n",
    "\n",
    "    # Filter the policies to show in the plot.\n",
    "    tmp_final_res = {k : v for k, v in dict_pwr_final_res[level].items() if k not in set_ignored_score_plugins}\n",
    "\n",
    "    # Set up the title.\n",
    "    title = None\n",
    "    perc = re.search(r'\\d{2,3}$', level)\n",
    "    if perc is not None: perc = perc.group()\n",
    "    if 'gpushare' in level: title = f\"{perc}% of GPU resources requested by sharing-GPU tasks\"\n",
    "    if 'multigpu' in level: title = f\"{perc}% increase in GPU resources requested by multi-GPU tasks\"\n",
    "    if 'gpuspec' in level: title = f\"{perc}% of GPU-constrained tasks\"\n",
    "    \n",
    "    # Plot the energy savings achieved with some competitor w.r.t. the reference competitor.\n",
    "    # X-axis represents the arrived workloads in % of GPU resources available in the cluster. \n",
    "    plot_energy_savings(tmp_final_res, reference_competitor, \n",
    "                        \"power_cluster\", \n",
    "                        title,\n",
    "                        20,\n",
    "                        (8, 4),\n",
    "                        dir_plots + \"pwrsaving_\" + level + '.pdf')"
   ]
  },
  {
   "cell_type": "markdown",
   "id": "7f1ae316-20d8-41d9-a03c-b64388b81b06",
   "metadata": {},
   "source": [
    "### Plots concerning the GPU resource allocation ratio metric"
   ]
  },
  {
   "cell_type": "code",
   "execution_count": null,
   "id": "75d60c0d-d041-43de-a7ba-90f035492828",
   "metadata": {},
   "outputs": [],
   "source": [
    "policies = {'PWR_50_FGD_950', 'PWR_100_FGD_900', 'PWR_200_FGD_800', 'FGD', 'BestFit', 'PWREXP'}\n",
    "filter_dict_eff = {}\n",
    "for k in dict_efficiency.keys() :\n",
    "    filter_dict_eff[k] = {k2 : v for k2, v in dict_efficiency[k].items() if k2 not in set_ignored_score_plugins} # Select only the policies in \"policies\"."
   ]
  },
  {
   "cell_type": "code",
   "execution_count": null,
   "id": "b3d0f6c3-02e8-41e5-98e9-c27e9b2f17bf",
   "metadata": {},
   "outputs": [],
   "source": [
    "reference_competitor = 'FGD'\n",
    "for level in filter_dict_eff.keys() :\n",
    "\n",
    "    print(f\"Generating plots for {level}...\")\n",
    "\n",
    "    ### Plot the GPU resource allocation ratio achieved by the various competitors across the various batches of experiments. ###\n",
    "\n",
    "    # Set up the title.\n",
    "    title = None\n",
    "    perc = re.search(r'\\d{2,3}$', level)\n",
    "    if perc is not None: perc = perc.group()\n",
    "    if 'gpushare' in level: title = f\"{perc}% of GPU resources requested by sharing-GPU tasks\"\n",
    "    if 'multigpu' in level: title = f\"{perc}% increase in GPU resources requested by multi-GPU tasks\"\n",
    "    if 'gpuspec' in level: title = f\"{perc}% of GPU-constrained tasks\"\n",
    "\n",
    "    # Set the zoom in on the x-axis for the considered set of experiments.\n",
    "    # Also, set the frequency of the markers, which is computed as a function of the interval considered on the X axis.\n",
    "    x_inf = 0.\n",
    "    if 'default' in level: x_inf = 0.9\n",
    "    if ('gpushare' in level) : x_inf = 0.875 if int(perc) == 40 else 0.8\n",
    "    if ('multigpu' in level): x_inf = 0.9\n",
    "    markevery = int(20 * (1 - x_inf))\n",
    "\n",
    "    # Generate the plot.\n",
    "    plot_comparison_metric(filter_dict_eff[level],\n",
    "                           reference_competitor,\n",
    "                           'usage_efficiency',\n",
    "                           title,\n",
    "                           'GPU Resource Allocation Ratio',\n",
    "                           (x_inf,1),\n",
    "                           (8, 4),\n",
    "                           markevery,\n",
    "                           dir_plots + \"gpuocc_\" + level + '.pdf')"
   ]
  }
 ],
 "metadata": {
  "kernelspec": {
   "display_name": "Python 3 (ipykernel)",
   "language": "python",
   "name": "python3"
  },
  "language_info": {
   "codemirror_mode": {
    "name": "ipython",
    "version": 3
   },
   "file_extension": ".py",
   "mimetype": "text/x-python",
   "name": "python",
   "nbconvert_exporter": "python",
   "pygments_lexer": "ipython3",
   "version": "3.12.9"
  }
 },
 "nbformat": 4,
 "nbformat_minor": 5
}
