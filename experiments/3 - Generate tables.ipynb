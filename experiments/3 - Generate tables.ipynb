{
 "cells": [
  {
   "cell_type": "code",
   "execution_count": null,
   "id": "43262eb9-390c-4c07-a2aa-e09656ed8dff",
   "metadata": {},
   "outputs": [],
   "source": [
    "import pandas as pd\n",
    "import numpy as np\n",
    "import os\n",
    "import sys\n",
    "from pathlib import Path\n",
    "import pickle\n",
    "\n",
    "import matplotlib.pyplot as plt\n",
    "from cycler import cycler"
   ]
  },
  {
   "cell_type": "markdown",
   "id": "54cba3e8-5b90-4bc8-b1ae-378dd061ce26",
   "metadata": {},
   "source": [
    "### Read the parsed results"
   ]
  },
  {
   "cell_type": "code",
   "execution_count": null,
   "id": "c5ba736e-e482-4158-b267-2a8e8290b705",
   "metadata": {},
   "outputs": [],
   "source": [
    "dict_pwr_final_res = None\n",
    "dict_frag_final_res = None\n",
    "dict_sched_final_res = None\n",
    "dict_efficiency = None\n",
    "\n",
    "with open('dict_pwr_final_res.pkl', 'rb') as f:\n",
    "    dict_pwr_final_res = pickle.load(f)\n",
    "\n",
    "with open('dict_frag_final_res.pkl', 'rb') as f:\n",
    "    dict_frag_final_res = pickle.load(f)\n",
    "\n",
    "with open('dict_sched_final_res.pkl', 'rb') as f:\n",
    "    dict_sched_final_res = pickle.load(f)\n",
    "\n",
    "with open('dict_efficiency.pkl', 'rb') as f:\n",
    "    dict_efficiency = pickle.load(f)"
   ]
  },
  {
   "cell_type": "markdown",
   "id": "246b71c0-319c-4715-9b35-648186c64122",
   "metadata": {},
   "source": [
    "# Generation of latex tables"
   ]
  },
  {
   "cell_type": "code",
   "execution_count": null,
   "id": "1ecee73b-72f9-4270-9948-e12de4f97aa0",
   "metadata": {},
   "outputs": [],
   "source": [
    "import re\n",
    "\n",
    "def split_string(s):\n",
    "    match = re.match(r\"([a-zA-Z_]+)(\\d+)\", s)\n",
    "    if match:\n",
    "        return match.groups()\n",
    "    else:\n",
    "        return s, \"\""
   ]
  },
  {
   "cell_type": "code",
   "execution_count": null,
   "id": "da3d5085-e53f-4204-8f49-1267b2983f32",
   "metadata": {},
   "outputs": [],
   "source": [
    "# Generate latex tables for GPU efficiency\n",
    "df_eff = {}\n",
    "for level in dict_efficiency.keys() :\n",
    "\n",
    "    exp, perc = split_string(level)\n",
    "    df = df_eff.get(exp, pd.DataFrame(index = pd.Index([], name='Scheduling Policy')))\n",
    "\n",
    "    if perc != \"\" : perc = f' ({perc}\\%)'\n",
    "    for policy in dict_efficiency[level].keys() :\n",
    "        df.loc[policy, f'GRAR{perc}'] = dict_efficiency[level][policy]['usage_efficiency'].loc[1]\n",
    "\n",
    "    df_eff[exp] = df\n",
    "\n",
    "display(df_eff['openb_pod_list_gpushare'])"
   ]
  },
  {
   "cell_type": "code",
   "execution_count": null,
   "id": "8110a5f8-e885-415f-a571-85d15a77e12e",
   "metadata": {},
   "outputs": [],
   "source": [
    "for key, df in df_eff.items():\n",
    "    print(f'Generating latex table for {key}...')\n",
    "    \n",
    "    col_format = 'c' * (df.shape[1] + 1)\n",
    "    df_temp = df.copy()\n",
    "    \n",
    "    df_temp.index = pd.Index([x.replace('_', '\\_') for x in df_temp.index.values], name = df_temp.index.name)\n",
    "    \n",
    "    # Reset the index\n",
    "    df_temp.reset_index(inplace = True)\n",
    "\n",
    "    # Ensure that the first column has the name of the old index\n",
    "    df_temp.columns = [f'\\\\textbf{{{x}}}' for x in df_temp.columns.values]\n",
    "\n",
    "    # Boldify the names of the policies.\n",
    "    df_temp.iloc[:, 0] = [f'\\\\textbf{{{x}}}' for x in df_temp.iloc[:, 0]]\n",
    "    \n",
    "    print(df_temp.to_latex(column_format = col_format, float_format=\"%.3f\", index = False))"
   ]
  }
 ],
 "metadata": {
  "kernelspec": {
   "display_name": "Python 3 (ipykernel)",
   "language": "python",
   "name": "python3"
  },
  "language_info": {
   "codemirror_mode": {
    "name": "ipython",
    "version": 3
   },
   "file_extension": ".py",
   "mimetype": "text/x-python",
   "name": "python",
   "nbconvert_exporter": "python",
   "pygments_lexer": "ipython3",
   "version": "3.11.9"
  }
 },
 "nbformat": 4,
 "nbformat_minor": 5
}
