{
 "cells": [
  {
   "cell_type": "code",
   "execution_count": null,
   "id": "43262eb9-390c-4c07-a2aa-e09656ed8dff",
   "metadata": {},
   "outputs": [],
   "source": [
    "import pandas as pd\n",
    "import os\n",
    "from pathlib import Path\n",
    "\n",
    "import matplotlib.pyplot as plt"
   ]
  },
  {
   "cell_type": "markdown",
   "id": "29b4a77a-dd5d-49cf-ab27-8b67b20586c6",
   "metadata": {},
   "source": [
    "#### Auxiliary functions used to generate plots"
   ]
  },
  {
   "cell_type": "code",
   "execution_count": null,
   "id": "d3926ca3-e268-4e37-bfe4-87a77412412b",
   "metadata": {},
   "outputs": [],
   "source": [
    "def plot_energy_failed(competitors_pwr: dict[str, pd.DataFrame], \n",
    "                       competitors_failed : dict[str, pd.DataFrame],\n",
    "                       column_power : str, column_failed : str,\n",
    "                       title_plot : str) :\n",
    "    ''' \n",
    "    This function generates a plot that compares (1) the cluster power consumption with various scoring plugins and (2)\n",
    "    the number of pods that fail to be scheduled, as the number of submitted pods increases.\n",
    "    '''\n",
    "    \n",
    "    # Plotting\n",
    "    fig, ax1 = plt.subplots(figsize=(12, 6))\n",
    "    \n",
    "    for k, v in competitors_pwr.items() : \n",
    "        ax1.plot(v.index, v[column_power], label=k)\n",
    "    ax1.set_xlabel('Submitted pods')\n",
    "    ax1.set_ylabel('Watts')\n",
    "    \n",
    "    ax2 = ax1.twinx()\n",
    "    for k, v in competitors_failed.items() : \n",
    "        ax2.plot(v.index, v[column_failed], label=f\"Cumulative failed pods w/ {k}\", linestyle='dashed')\n",
    "    ax2.set_ylabel(\"Cumulative failed pods\")\n",
    "    ax2.tick_params(axis='y')\n",
    "    \n",
    "    # Legends\n",
    "    ax1.legend(loc='upper left', bbox_to_anchor=(1.1, 1), borderaxespad=0.)\n",
    "    ax2.legend(loc='upper left', bbox_to_anchor=(1.1, 0.8), borderaxespad=0.)\n",
    "    \n",
    "    plt.title(title_plot)\n",
    "    plt.grid(True)\n",
    "    plt.tight_layout()\n",
    "    plt.show()"
   ]
  },
  {
   "cell_type": "code",
   "execution_count": null,
   "id": "69b59d1e-642c-48b1-8081-a40793ba6ea2",
   "metadata": {},
   "outputs": [],
   "source": [
    "def plot_energy_savings(competitors_pwr: dict[str, pd.DataFrame], \n",
    "                        reference_competitor : str, column_power : str, title_plot : str) :\n",
    "    \n",
    "    fig, ax1 = plt.subplots(figsize=(10, 6))\n",
    "    reference = competitors_pwr[reference_competitor]\n",
    "    for k, v in competitors_pwr.items() :\n",
    "        if k == reference_competitor: continue\n",
    "        ax1.plot(v.index, (reference[column_power] - v[column_power]) / reference[column_power] * 100, label=k)\n",
    "    ax1.set_xlabel('Submitted pods')\n",
    "    ax1.set_ylabel('% power savings')\n",
    "    \n",
    "    # Legends\n",
    "    ax1.legend(loc='upper right')\n",
    "    \n",
    "    plt.title(title_plot)\n",
    "    plt.grid(True)\n",
    "    plt.tight_layout()\n",
    "    plt.show()"
   ]
  },
  {
   "cell_type": "markdown",
   "id": "b4902ea0-d27a-494d-bdd1-166f1b5c66a5",
   "metadata": {},
   "source": [
    "### Retrieve power consumption and failed pods data from the experiments"
   ]
  },
  {
   "cell_type": "code",
   "execution_count": null,
   "id": "aa7101db-67dc-4a4f-ac53-8eb500f90d78",
   "metadata": {},
   "outputs": [],
   "source": [
    "# Dictionaries where the results will be stored.\n",
    "df_pwr_dict = {}\n",
    "df_sched_pod_dict = {}\n",
    "\n",
    "DATADIR = \"./2024_0531\"\n",
    "data = Path(DATADIR)\n",
    "\n",
    "fileDirs = sorted([x for x in data.iterdir() if x.is_dir()])\n",
    "for fdir in fileDirs:\n",
    "    policyDirs = sorted([x for x in fdir.iterdir() if x.is_dir()])\n",
    "    for pdir in policyDirs:            \n",
    "        tuneDirs = sorted([x for x in pdir.iterdir() if x.is_dir()])\n",
    "        for tdir in tuneDirs:\n",
    "            seedDirs = sorted([x for x in tdir.iterdir() if x.is_dir()])\n",
    "            for sdir in seedDirs:\n",
    "                pwrfile = sdir / 'analysis_pwr.csv'\n",
    "                schedfile = sdir / 'analysis_cdol.csv'\n",
    "\n",
    "                \n",
    "                # Collect telemetry about power consumption.\n",
    "                try:\n",
    "                    df_pwr = pd.read_csv(pwrfile)\n",
    "                    df_pwr.rename(columns = lambda x: x.split('-')[-1], inplace=True)\n",
    "                    df_pwr_dict.setdefault(pdir.name, list()).append(df_pwr)\n",
    "\n",
    "                except Exception as e:\n",
    "                    exit(\"ERROR: file %s\\n%s\" % (pwrfile, e))\n",
    "\n",
    "                \n",
    "                # Collect telemetry about pods that the cluster failed to schedule.\n",
    "                try:\n",
    "                    df_sched_pod = pd.read_csv(schedfile)\n",
    "                    df_sched_pod.rename(columns = lambda x: x.split('-')[-1], inplace=True)\n",
    "                    df_sched_pod = df_sched_pod[['event']]\n",
    "                    df_sched_pod['event'] = 1 * (df_sched_pod['event'] == 'failed')\n",
    "                    df_sched_pod['event'] = df_sched_pod['event'].cumsum()\n",
    "                    df_sched_pod_dict.setdefault(pdir.name, list()).append(df_sched_pod)\n",
    "                \n",
    "                except Exception as e:\n",
    "                    exit(\"ERROR: file %s\\n%s\" % (schedfile, e))\n",
    "\n",
    "\n",
    "# display(df_pwr_dict.keys())\n",
    "# display(df_pwr_dict)\n",
    "# display(df_sched_pod_dict.keys())\n",
    "# display(df_sched_pod_dict)"
   ]
  },
  {
   "cell_type": "markdown",
   "id": "64894368-5825-48ad-9505-7fc1e301c4fa",
   "metadata": {},
   "source": [
    "#### Compute the average power consumption and number of failed plugins within each score plugin's set of runs."
   ]
  },
  {
   "cell_type": "code",
   "execution_count": null,
   "id": "092758e9-9c8f-4fe4-9a28-ac38b4bb52a2",
   "metadata": {},
   "outputs": [],
   "source": [
    "# Compute the average power consumption for each score plugin.\n",
    "dict_pwr_final_res = {}\n",
    "for k, v in df_pwr_dict.items() :\n",
    "    dict_pwr_final_res[k] = sum(v) / len(v)\n",
    "\n",
    "# Compute the average failed pod for each score plugin.\n",
    "dict_sched_final_res = {}\n",
    "for k, v in df_sched_pod_dict.items() :\n",
    "    dict_sched_final_res[k] = sum(v) / len(v)\n",
    "\n",
    "    \n",
    "# display(dict_pwr_final_res.keys())\n",
    "# display(dict_pwr_final_res)\n",
    "# display(dict_sched_final_res.keys())\n",
    "# display(dict_sched_final_res)"
   ]
  },
  {
   "cell_type": "markdown",
   "id": "41471cfd-ceb7-45fa-8b35-a024bac462cb",
   "metadata": {},
   "source": [
    "### Generation of power consumption plots: overall, GPU only, and CPU only "
   ]
  },
  {
   "cell_type": "code",
   "execution_count": null,
   "id": "74847843-5303-465a-868b-2327a7f61ce7",
   "metadata": {},
   "outputs": [],
   "source": [
    "reference_competitor = '06-FGD'"
   ]
  },
  {
   "cell_type": "code",
   "execution_count": null,
   "id": "4bb8839f-4558-4337-a6ad-6e8e987ce5f3",
   "metadata": {},
   "outputs": [],
   "source": [
    "plot_energy_failed(dict_pwr_final_res, dict_sched_final_res, \"power_cluster\", \"event\",\n",
    "                   'Overall cluster energy consumption vs # submitted pods')\n",
    "plot_energy_savings(dict_pwr_final_res, reference_competitor, \"power_cluster\", f\"Overall cluster power savings vs {reference_competitor}\")"
   ]
  },
  {
   "cell_type": "code",
   "execution_count": null,
   "id": "4dd2a159-35ac-482b-aeec-54f624c8f7e5",
   "metadata": {},
   "outputs": [],
   "source": [
    "plot_energy_failed(dict_pwr_final_res, dict_sched_final_res, \"power_cluster_GPU\", \"event\",\n",
    "                   'GPU cluster energy consumption vs # submitted pods')\n",
    "plot_energy_savings(dict_pwr_final_res, reference_competitor, \"power_cluster_GPU\", f\"GPU cluster power savings vs {reference_competitor}\")"
   ]
  },
  {
   "cell_type": "code",
   "execution_count": null,
   "id": "2db7bc88-b68b-4410-accf-9e178faccc19",
   "metadata": {},
   "outputs": [],
   "source": [
    "plot_energy_failed(dict_pwr_final_res, dict_sched_final_res, \"power_cluster_CPU\", \"event\",\n",
    "                   'CPU cluster energy consumption vs # submitted pods')\n",
    "reference_competitor = '06-FGD'\n",
    "plot_energy_savings(dict_pwr_final_res, reference_competitor, \"power_cluster_CPU\", f\"CPU cluster power savings vs {reference_competitor}\")"
   ]
  }
 ],
 "metadata": {
  "kernelspec": {
   "display_name": "Python 3 (ipykernel)",
   "language": "python",
   "name": "python3"
  },
  "language_info": {
   "codemirror_mode": {
    "name": "ipython",
    "version": 3
   },
   "file_extension": ".py",
   "mimetype": "text/x-python",
   "name": "python",
   "nbconvert_exporter": "python",
   "pygments_lexer": "ipython3",
   "version": "3.11.9"
  }
 },
 "nbformat": 4,
 "nbformat_minor": 5
}
